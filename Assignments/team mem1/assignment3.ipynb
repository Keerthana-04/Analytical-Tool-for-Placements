{
  "nbformat": 4,
  "nbformat_minor": 0,
  "metadata": {
    "colab": {
      "provenance": []
    },
    "kernelspec": {
      "name": "python3",
      "display_name": "Python 3"
    },
    "language_info": {
      "name": "python"
    }
  },
  "cells": [
    {
      "cell_type": "code",
      "execution_count": null,
      "metadata": {
        "id": "JJaXe3XyAfJP"
      },
      "outputs": [],
      "source": [
        "a=[1,2,3]\n",
        "b=[4,5,6]\n",
        "c=a+b"
      ]
    },
    {
      "cell_type": "code",
      "source": [
        "print(c)"
      ],
      "metadata": {
        "colab": {
          "base_uri": "https://localhost:8080/"
        },
        "id": "ezDqaqxTDxuM",
        "outputId": "4dc268e1-e4ed-48f8-b9f8-47beda0af482"
      },
      "execution_count": null,
      "outputs": [
        {
          "output_type": "stream",
          "name": "stdout",
          "text": [
            "[1, 2, 3, 4, 5, 6]\n"
          ]
        }
      ]
    },
    {
      "cell_type": "code",
      "source": [
        "for i in c:\n",
        "  if i%2==0:\n",
        "    print(i)"
      ],
      "metadata": {
        "colab": {
          "base_uri": "https://localhost:8080/"
        },
        "id": "SkCAEgLSETMr",
        "outputId": "30ad569c-9d45-4e7f-f204-54815d7dba4d"
      },
      "execution_count": null,
      "outputs": [
        {
          "output_type": "stream",
          "name": "stdout",
          "text": [
            "2\n",
            "4\n",
            "6\n"
          ]
        }
      ]
    },
    {
      "cell_type": "code",
      "source": [
        "dic={}\n",
        "for i,j in enumerate(range(10)):\n",
        "  dic[i]=j,i\n"
      ],
      "metadata": {
        "id": "feemFZ6wE1PG"
      },
      "execution_count": null,
      "outputs": []
    },
    {
      "cell_type": "code",
      "source": [
        "print(dic)"
      ],
      "metadata": {
        "colab": {
          "base_uri": "https://localhost:8080/"
        },
        "id": "FHZqi8raFW3w",
        "outputId": "c593e992-d1cb-4150-f2d7-cbebaa4bb1bd"
      },
      "execution_count": null,
      "outputs": [
        {
          "output_type": "stream",
          "name": "stdout",
          "text": [
            "{0: (0, 0), 1: (1, 1), 2: (2, 2), 3: (3, 3), 4: (4, 4), 5: (5, 5), 6: (6, 6), 7: (7, 7), 8: (8, 8), 9: (9, 9)}\n"
          ]
        }
      ]
    },
    {
      "cell_type": "code",
      "source": [
        "def odds(a):\n",
        "  if a%2!=0:\n",
        "    return(a)"
      ],
      "metadata": {
        "id": "e3Gnf3jPFkxc"
      },
      "execution_count": null,
      "outputs": []
    },
    {
      "cell_type": "code",
      "source": [
        "def arr_sum(arr):\n",
        "  return(sum(arr))"
      ],
      "metadata": {
        "id": "Jg30IfyvGE_9"
      },
      "execution_count": null,
      "outputs": []
    },
    {
      "cell_type": "code",
      "source": [
        "arr_sum([1,2,34,9])"
      ],
      "metadata": {
        "colab": {
          "base_uri": "https://localhost:8080/"
        },
        "id": "VsrSLI2XGQRy",
        "outputId": "312e197d-6e50-4b0a-cb31-7e5a024a6336"
      },
      "execution_count": null,
      "outputs": [
        {
          "output_type": "execute_result",
          "data": {
            "text/plain": [
              "46"
            ]
          },
          "metadata": {},
          "execution_count": 16
        }
      ]
    }
  ]
}